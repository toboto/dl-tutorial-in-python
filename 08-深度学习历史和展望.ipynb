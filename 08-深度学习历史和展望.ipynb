{
 "cells": [
  {
   "cell_type": "markdown",
   "metadata": {},
   "source": [
    "## 加深网络\n",
    "### 一个VGG的例子\n",
    "下图是一个VGG的多层网络：\n",
    "![VGG](http://www.ituring.com.cn/figures/2018/DeepLearning/144.png)\n",
    "这个网络的特点是：\n",
    "> - 基于 3×3 的小型滤波器的卷积层。\n",
    "> - 激活函数是 ReLU。\n",
    "> - 全连接层的后面使用 Dropout 层。\n",
    "> - 基于 Adam 的最优化。\n",
    "> - 使用 He 初始值作为权重初始值。\n",
    "\n",
    "用这个网络进行MNIST学习得到的结果超过了99%。\n",
    "\n",
    "### 是否还能提升？\n",
    "集成学习、学习率衰减、数据扩充（Data Augmentation）等都是可行方法。\n",
    "\n",
    "数据扩充可以通过旋转图像和平移图像，人为增加训练序列，获得更好的学习结果。\n",
    "\n",
    "### 加深网络的目的\n",
    "理论研究仍在进行中，但至少可以有两个优势：\n",
    "1. 用多层，每层更小维度的滤波器来替代一层较高维度的滤波器，这样减少了计算量\n",
    "1. 多层网络逐层学习，每层在上一层学习出的特征基础上，加深学习对这些特征的更宏观的组合"
   ]
  },
  {
   "cell_type": "markdown",
   "metadata": {},
   "source": [
    "## 深度学习小史\n",
    "一般认为，2012 年举办的大规模图像识别大赛 ILSVRC（ImageNet Large Scale Visual Recognition Challenge）上，AlexNet网络压倒性胜出，开始了深度学习的热潮。\n",
    "\n",
    "### ImageNet\n",
    "这是一个较大的图像分类集，有超过100万张带有标签的图片，可以用来做机器学习训练。\n",
    "\n",
    "近些年来的各次ILSVRC比赛冠军如下：\n",
    "![image](http://www.ituring.com.cn/figures/2018/DeepLearning/151.png)\n",
    "\n",
    "### VGG\n",
    "上文已经介绍过VGG的特点，VGG网络实际上并不深，可以是16层或者19层，但学习效果却和很多深层网络相差不多。\n",
    "\n",
    "### GoogleNet\n",
    "2014年GoogleNet战胜VGG夺冠。GoogleNet有很深层的网络结构，同时还有横向处理上的广度。Inception结构中，同一层中有多个不同纬度滤波器学习后，再将结果合并。\n",
    "\n",
    "### ResNet\n",
    "ResNet以VGG为基础，有超过150层的深度，并且还设置了“捷径”，使得反向传播时信号无衰减地传输。\n",
    "![image](http://www.ituring.com.cn/figures/2018/DeepLearning/156.png)"
   ]
  },
  {
   "cell_type": "markdown",
   "metadata": {},
   "source": [
    "## 深度学习的高速化\n",
    "### 卷积计算很费时\n",
    "以AlexNet为例，大部分计算时间都消耗在卷几层。\n",
    "![image](http://www.ituring.com.cn/figures/2018/DeepLearning/157.png)\n",
    "\n",
    "### 使用GPU\n",
    "GPU的并行计算能力更强，能够成倍（甚至多倍）地加速深度学习计算。\n",
    "\n",
    "### 分布式学习\n",
    "利用TenserFlow、CNTK等框架，使用多个计算资源同时进行计算。\n",
    "\n",
    "### 运算精度的位数缩减\n",
    "深度学习实际上对于数字经度要求不高，缩减精度也有利于深度学习的计算加速。"
   ]
  },
  {
   "cell_type": "markdown",
   "metadata": {},
   "source": [
    "## 深度学习的应用案例\n",
    "\n",
    "图像方面应用比较多，比如：物体检测、图像分割、图像标题的生成等。"
   ]
  },
  {
   "cell_type": "markdown",
   "metadata": {},
   "source": [
    "## 深度学习的未来\n",
    "深度学习的应用包括图像标题的生成、图像的生成、强化学习等。最近，深度学习在自动驾驶上的应用也备受期待。"
   ]
  }
 ],
 "metadata": {
  "kernelspec": {
   "display_name": "Python 3",
   "language": "python",
   "name": "python3"
  },
  "language_info": {
   "codemirror_mode": {
    "name": "ipython",
    "version": 3
   },
   "file_extension": ".py",
   "mimetype": "text/x-python",
   "name": "python",
   "nbconvert_exporter": "python",
   "pygments_lexer": "ipython3",
   "version": "3.7.3"
  }
 },
 "nbformat": 4,
 "nbformat_minor": 2
}
